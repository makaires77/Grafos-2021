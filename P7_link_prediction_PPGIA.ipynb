{
 "cells": [
  {
   "cell_type": "markdown",
   "metadata": {
    "id": "sQj7DPTViFDu"
   },
   "source": [
    "<p> <img src='images/Unifor_vertBlue.png' align=\"right\" width=\"200px\"> </p>\n",
    "\n",
    "# Atividade 7 - Predição de Links no Grafo de Coautoria do PPGIA<br>\n",
    "AIRES, Marcos. CARUBBI, Ricardo. SIQUEIRA, Fernando. Alunos de Análise de Dados em Grafos.<br>\n",
    "Professor orientador: Prof. Dr. Raimir Holanda.<br>\n",
    "Programa de Pós-Graduação em Informática Aplicada. Universidade de Fortaleza - UNIFOR.\n",
    "\n",
    "\n"
   ]
  },
  {
   "cell_type": "markdown",
   "metadata": {
    "id": "Lt3MUMGF7s6G"
   },
   "source": [
    "## Resumo"
   ]
  },
  {
   "cell_type": "markdown",
   "metadata": {
    "id": "WNdpY6ti6vST"
   },
   "source": [
    "Diversas informações sobre a produção cientı́fica nacional podem ser encontradas na Plataforma Lattes e, assim como as redes sociais, pode-se aplicar os mesmos conceitos para predição de links na rede social acadêmica. Esses links são identificados como coautorias, ou relações entre os pesquisadores na produção de uma publicação, e sua predição facilita e otimiza a produção científica. Este projeto comparou diversas métricas baseadas em similiaridade e proximidade em uma rede de coautoria dos professores do Programa de Pós-graduação em Informática Aplicada (PPGIA) da Universidade de Fortaleza (Unifor). Verificou-se que esta rede de coautoria, gerada em 1989 na abertura da referida pós-graduação, intensificou a colaboração acadêmica entre professores das respectivas áreas de concentração. Contudo apenas um link foi gerado no período de 2014 a 2021 e abordado como um problema de predição de links. Os resultados das diversas métricas não foram promissores sendo apenas um índice favorável à predição da referida coautoria. Conclui-se que para o problema de predição de coautorias em redes sociais acadêmicas é necessário analisar outras métricas e estratégias além das baseadas na estrutura da rede."
   ]
  },
  {
   "cell_type": "markdown",
   "metadata": {
    "id": "U5AvIlJ7TPJu"
   },
   "source": [
    "## Configurações"
   ]
  },
  {
   "cell_type": "code",
   "execution_count": 1,
   "metadata": {},
   "outputs": [],
   "source": [
    "def set_node_community(G, communities):\n",
    "    '''Add community to node attributes'''\n",
    "    for c, v_c in enumerate(communities):\n",
    "        for v in v_c:\n",
    "            # Add 1 to save 0 for external edges\n",
    "            G.nodes[v]['community'] = c + 1\n",
    "            \n",
    "def set_edge_community(G):\n",
    "    '''Find internal edges and add their community to their attributes'''\n",
    "    for v, w, in G.edges:\n",
    "        if G.nodes[v]['community'] == G.nodes[w]['community']:\n",
    "            # Internal edge, mark with community\n",
    "            G.edges[v, w]['community'] = G.nodes[v]['community']\n",
    "        else:\n",
    "            # External edge, mark as 0\n",
    "            G.edges[v, w]['community'] = 0\n",
    "            \n",
    "def get_color(i, r_off=1, g_off=1, b_off=1):\n",
    "    r0, g0, b0 = 0, 0, 0\n",
    "    n = 16\n",
    "    low, high = 0.1, 0.9\n",
    "    span = high - low\n",
    "    r = low + span * (((i + r_off) * 3) % n) / (n - 1)\n",
    "    g = low + span * (((i + g_off) * 5) % n) / (n - 1)\n",
    "    b = low + span * (((i + b_off) * 7) % n) / (n - 1)\n",
    "    return (r, g, b)\n",
    "\n",
    "# ignoring warnings\n",
    "import warnings\n",
    "warnings.simplefilter(\"ignore\")\n",
    "\n",
    "import matplotlib.cm as cm\n",
    "import community as community_louvain\n",
    "def graph_louvain (G,ano):\n",
    "    \n",
    "    # Best partition\n",
    "    partition = community_louvain.best_partition(G, weight='weight', random_state=1503)\n",
    "    n_partitions = max(partition.values())+1\n",
    "    print(f'Número de partições: {n_partitions}')\n",
    "    \n",
    "    C_lvn=[]\n",
    "    for n in range(n_partitions):\n",
    "        C_lvn.append([k for k, v in partition.items() if v==n])\n",
    "    print(f'Nós por partição: {C_lvn}')\n",
    "    \n",
    "    # Set node and edge communities\n",
    "    set_node_community(G, C_lvn)\n",
    "    set_edge_community(G)\n",
    "\n",
    "    # Set community color for nodes\n",
    "    node_color = [get_color(G.nodes[v]['community']) for v in G.nodes]\n",
    "\n",
    "    # Set community edges\n",
    "    C_edges = []\n",
    "    for n in range(n_partitions+1):\n",
    "        C_edges.append([(v, w) for v, w in G.edges if G.edges[v, w]['community'] == n])\n",
    "\n",
    "    # Set community colors\n",
    "    C_colors = []\n",
    "    for c in C_edges:\n",
    "        C_colors.append([get_color(G.edges[e]['community']) for e in c])\n",
    "\n",
    "    # Set community weights\n",
    "    C_weights = []\n",
    "    for l in C_edges:\n",
    "        C_weights.append([G.get_edge_data(n1,n2)['weight'] for n1,n2 in l])   \n",
    "        \n",
    "    cmap = cm.get_cmap('spring', n_partitions)\n",
    "    \n",
    "    # Figure\n",
    "    plt.figure(figsize=(10,8))\n",
    "    plt.title(f'Detecção de Comunidades em {ano} por Louvain')\n",
    "\n",
    "    nx.draw_networkx(G,\n",
    "                     pos=pos,\n",
    "                     node_size=0,\n",
    "                     font_size=10,\n",
    "                     edgelist=C_edges[0],\n",
    "                     width=C_weights[0],\n",
    "                     edge_color='silver')\n",
    "\n",
    "    # Draw C1 edges\n",
    "    nx.draw_networkx(G,\n",
    "                     pos=pos,\n",
    "                     node_size=0,\n",
    "                     font_size=10,\n",
    "                     edgelist=C_edges[1],\n",
    "                     width=C_weights[1],\n",
    "                     edge_color=C_colors[1])\n",
    "\n",
    "    # Draw C2 edges\n",
    "    nx.draw_networkx(G,\n",
    "                     pos=pos,\n",
    "                     node_size=0,\n",
    "                     font_size=10,\n",
    "                     edgelist=C_edges[2],\n",
    "                     width=C_weights[2],\n",
    "                     edge_color=C_colors[2])\n",
    "\n",
    "    # Draw C3 edges\n",
    "    nx.draw_networkx(G,\n",
    "                     pos=pos,\n",
    "                     node_size=0,\n",
    "                     font_size=10,\n",
    "                     edgelist=C_edges[3],\n",
    "                     width=C_weights[3],\n",
    "                     edge_color=C_colors[3])\n",
    "\n",
    "    # Draw edge labels\n",
    "    labels = nx.get_edge_attributes(G,'weight')\n",
    "    nx.draw_networkx_edge_labels(G,\n",
    "                                 pos,\n",
    "                                 edge_labels=labels,\n",
    "                                 font_size=8, \n",
    "                                 verticalalignment='center_baseline', \n",
    "                                 alpha=.5)\n",
    "\n",
    "    nx.draw_networkx_labels(G, \n",
    "                            pos, \n",
    "                            alpha=.75, \n",
    "                            font_size=10)\n",
    "\n",
    "    nx.draw_networkx_nodes(G, \n",
    "                           pos, \n",
    "                           partition.keys(), \n",
    "                           node_size=300,\n",
    "                           node_color=node_color)\n",
    "\n",
    "    plt.show()\n",
    "    \n",
    "from matplotlib import pyplot as plt\n",
    "def graph_mono(G,ano):\n",
    "    \n",
    "    # Create figure\n",
    "    plt.figure(figsize=(8,8))\n",
    "    plt.title(f'Grafo Monopartido Ponderado PPGIA - Período de 1989 até {ano}')\n",
    "    # Get weights\n",
    "    weight = [G.edges[e]['weight'] for e in G.edges]\n",
    "    # Draw edges, nodes, and labels\n",
    "    nx.draw_networkx(G,\n",
    "                     node_color='silver',\n",
    "                     edge_color='silver',\n",
    "                     font_size=10,\n",
    "                     width=weight,\n",
    "                     pos=pos)\n",
    "    # Draw labels\n",
    "    labels = nx.get_edge_attributes(G,'weight')\n",
    "    nx.draw_networkx_edge_labels(G,\n",
    "                                 pos,\n",
    "                                 edge_labels=labels,\n",
    "                                 font_size=8, \n",
    "                                 verticalalignment='center_baseline', \n",
    "                                 alpha=.5)\n",
    "    nx.draw_networkx_labels(G, \n",
    "                            pos, \n",
    "                            font_size=10, \n",
    "                            alpha=.75)\n",
    "    plt.show()\n",
    "    \n",
    "def partition(G):\n",
    "    C_lvn=[]\n",
    "    partition = community_louvain.best_partition(H, random_state=1503)\n",
    "    n_partitions = max(partition.values())+1\n",
    "    for n in range(n_partitions):\n",
    "        C_lvn.append([k for k, v in partition.items() if v==n])\n",
    "    return C_lvn\n",
    "\n",
    "def avalCN(G,n1,n2):\n",
    "    cn = sorted(nx.common_neighbors(G,n1,n2))\n",
    "    print(f'Nós avaliados:{n1,n2}')\n",
    "    print(f'Nó(s) vizinho(s): {cn}')\n",
    "    print(f'Número de nó(s) vizinho(s) em comum: {len(cn)}\\n')\n",
    "\n",
    "import math\n",
    "def salton_index(G,n1,n2):\n",
    "    kx = G.degree[n1]\n",
    "    ky = G.degree[n2]\n",
    "    si = len(list(nx.common_neighbors(G,n1,n2)))/math.sqrt(kx*ky)\n",
    "    print(f'Nós avaliados:{n1,n2}')\n",
    "    print(f'salton index: {si:.4f}\\n')\n",
    "\n",
    "def sorensen_index(G,n1,n2):\n",
    "    kx = G.degree[n1]\n",
    "    ky = G.degree[n2]\n",
    "    si = 2*len(list(nx.common_neighbors(G,n1,n2)))/(kx+ky)\n",
    "    print(f'Nós avaliados:{n1,n2}')\n",
    "    print(f'sorensen index: {si:.4f}\\n')\n",
    "\n",
    "def hub_promoted_index(G,n1,n2):\n",
    "    kx = G.degree[n1]\n",
    "    ky = G.degree[n2]\n",
    "    hub = len(list(nx.common_neighbors(G,n1,n2)))/min(kx,ky)\n",
    "    print(f'Nós avaliados:{n1,n2}')\n",
    "    print(f'hub promoted index: {hub:.4f}\\n')\n",
    "    \n",
    "def hub_depressed_index(G,n1,n2):\n",
    "    kx = G.degree[n1]\n",
    "    ky = G.degree[n2]\n",
    "    hub = len(list(nx.common_neighbors(G,n1,n2)))/max(kx,ky)\n",
    "    print(f'Nós avaliados:{n1,n2}')\n",
    "    print(f'hub depressed index: {hub:.4f}\\n')\n",
    "    \n",
    "def leicht_holme_newman_index(G,n1,n2):\n",
    "    kx = G.degree[n1]\n",
    "    ky = G.degree[n2]\n",
    "    lhn = len(list(nx.common_neighbors(G,n1,n2)))/(kx*ky)\n",
    "    print(f'Nós avaliados:{n1,n2}')\n",
    "    print(f'leicht holme newman index: {lhn:.4f}\\n')\n",
    "    \n",
    "def preferential_attachment(G,n1,n2):\n",
    "    kx = G.degree[n1]\n",
    "    ky = G.degree[n2]\n",
    "    pa = kx*ky\n",
    "    print(f'Nós avaliados:{n1,n2}')\n",
    "    print(f'preferential attachment index: {pa:.4f}\\n')"
   ]
  },
  {
   "cell_type": "markdown",
   "metadata": {
    "id": "2am6jY5sBEaZ"
   },
   "source": [
    "## Carregamento do Grafo"
   ]
  },
  {
   "cell_type": "code",
   "execution_count": 2,
   "metadata": {
    "executionInfo": {
     "elapsed": 7265,
     "status": "ok",
     "timestamp": 1621474098154,
     "user": {
      "displayName": "Ricardo Carubbi",
      "photoUrl": "https://lh3.googleusercontent.com/a-/AOh14GjFIu0VqofZXcKxSonHFG93xYoAWQRXL7z9LIkWBA=s64",
      "userId": "03831168603992390324"
     },
     "user_tz": 180
    },
    "id": "DYsMYIc8AtcS"
   },
   "outputs": [],
   "source": [
    "# Criação do grafo não direcionado vazio\n",
    "import datetime as dt\n",
    "import networkx as nx\n",
    "A = nx.Graph() # Grafo até o ano de 2010\n",
    "B = nx.Graph() # Grafo até o ano de 2014\n",
    "C = nx.Graph() # Grafo do período completo\n",
    "\n",
    "# Professores do PPGIA\n",
    "PPGIA = ['Placido Rogerio Pinheiro','Adriano Bessa Albuquerque','Americo Tadeu Falcone Sampaio',\n",
    "         'Joao Batista Furlan Duarte','Joao Jose Vasco Peixoto Furtado','Maria Andreia Formico Rodrigues',\n",
    "         'Maria Elizabeth Sucupira Furtado','Nabor das Chagas Mendonça','Napoleao Vieira Nepomuceno',\n",
    "         'Raimir Holanda Filho','Tarcisio Haroldo Cavalcante Pequeno','Vladia Celia Monteiro Pinheiro']\n",
    "\n",
    "# Carregamento dos dados no grafo\n",
    "with open('dataset/ppgia_coautorias.csv') as f:\n",
    "    next(f)\n",
    "    for row in f:\n",
    "        # Definição dos nós\n",
    "        linha = row.strip().split(\";\")\n",
    "        ano = dt.datetime.strptime(linha[0],'%Y')\n",
    "        artigo = linha[1]\n",
    "        autor = linha[2]\n",
    "        ano_p1 = dt.datetime(2010,1,1)\n",
    "        ano_p2 = dt.datetime(2014,1,1)\n",
    "        if autor in PPGIA:\n",
    "            # Grafo de todo o período\n",
    "            C.add_edge(autor, artigo)\n",
    "            # Definição dos atributos dos nós\n",
    "            C.nodes[autor]['autor'] = 1\n",
    "            C.nodes[artigo]['autor'] = 0\n",
    "            \n",
    "            if ano<=ano_p1:\n",
    "                # Grafo até o ano de 2010\n",
    "                A.add_edge(autor, artigo)\n",
    "                A.nodes[autor]['autor'] = 1\n",
    "                A.nodes[artigo]['autor'] = 0\n",
    "                \n",
    "            if ano<=ano_p2:\n",
    "                # Grafo até o ano de 2014\n",
    "                B.add_edge(autor, artigo)\n",
    "                B.nodes[autor]['autor'] = 1\n",
    "                B.nodes[artigo]['autor'] = 0 "
   ]
  },
  {
   "cell_type": "code",
   "execution_count": 3,
   "metadata": {
    "executionInfo": {
     "elapsed": 7257,
     "status": "ok",
     "timestamp": 1621474098168,
     "user": {
      "displayName": "Ricardo Carubbi",
      "photoUrl": "https://lh3.googleusercontent.com/a-/AOh14GjFIu0VqofZXcKxSonHFG93xYoAWQRXL7z9LIkWBA=s64",
      "userId": "03831168603992390324"
     },
     "user_tz": 180
    },
    "id": "gecvUW3QG_HM"
   },
   "outputs": [],
   "source": [
    "# Renomea os labels dos nós como inteiros sequenciais e atribuir o nome completo como atributo\n",
    "grafo=[]\n",
    "for N in [A,B,C]:\n",
    "    grafo.append(nx.relabel.convert_node_labels_to_integers(N,\n",
    "                                                            first_label=0, \n",
    "                                                            label_attribute='nome'))"
   ]
  },
  {
   "cell_type": "code",
   "execution_count": 4,
   "metadata": {
    "executionInfo": {
     "elapsed": 7240,
     "status": "ok",
     "timestamp": 1621474098175,
     "user": {
      "displayName": "Ricardo Carubbi",
      "photoUrl": "https://lh3.googleusercontent.com/a-/AOh14GjFIu0VqofZXcKxSonHFG93xYoAWQRXL7z9LIkWBA=s64",
      "userId": "03831168603992390324"
     },
     "user_tz": 180
    },
    "id": "e8XOUS9X59iG"
   },
   "outputs": [],
   "source": [
    "# Gera e define o atributo 'bipartite' para identificação dos grupos de autores e artigos\n",
    "bp_autor=[]\n",
    "bp_artigos=[]\n",
    "for N in grafo:\n",
    "    bp_autor.append([v for v in N.nodes if N.nodes[v][\"autor\"] == 1])\n",
    "    bp_artigos.append([v for v in N.nodes if N.nodes[v][\"autor\"] == 0])"
   ]
  },
  {
   "cell_type": "code",
   "execution_count": 5,
   "metadata": {
    "executionInfo": {
     "elapsed": 7240,
     "status": "ok",
     "timestamp": 1621474098175,
     "user": {
      "displayName": "Ricardo Carubbi",
      "photoUrl": "https://lh3.googleusercontent.com/a-/AOh14GjFIu0VqofZXcKxSonHFG93xYoAWQRXL7z9LIkWBA=s64",
      "userId": "03831168603992390324"
     },
     "user_tz": 180
    },
    "id": "e8XOUS9X59iG"
   },
   "outputs": [],
   "source": [
    "# Gera e define o atributo 'bipartite' para identificação dos grupos de autores e artigos\n",
    "autores = []\n",
    "artigos = []\n",
    "for N in grafo:\n",
    "    autores.append([v for v in N.nodes if N.nodes[v][\"autor\"] == 1])\n",
    "    artigos.append([v for v in N.nodes if N.nodes[v][\"autor\"] == 0])  "
   ]
  },
  {
   "cell_type": "code",
   "execution_count": 6,
   "metadata": {},
   "outputs": [
    {
     "name": "stdout",
     "output_type": "stream",
     "text": [
      "Número de autores A: 12\n",
      "Número de autores B: 12\n",
      "Número de autores C: 12\n"
     ]
    }
   ],
   "source": [
    "# Gera q quantidade de autores por grafo temporal:\n",
    "str_grafo=['A','B','C']\n",
    "for i,j in zip(str_grafo,autores):\n",
    "    print(f'Número de autores {i}: {len(j)}')"
   ]
  },
  {
   "cell_type": "code",
   "execution_count": 7,
   "metadata": {},
   "outputs": [
    {
     "name": "stdout",
     "output_type": "stream",
     "text": [
      "Número de artigos A: 114\n",
      "Número de artigos B: 175\n",
      "Número de artigos C: 304\n"
     ]
    }
   ],
   "source": [
    "# Gera q quantidade de artigos por grafo temporal:\n",
    "for i,j in zip(str_grafo,artigos):\n",
    "    print(f'Número de artigos {i}: {len(j)}')"
   ]
  },
  {
   "cell_type": "code",
   "execution_count": 8,
   "metadata": {
    "colab": {
     "base_uri": "https://localhost:8080/"
    },
    "executionInfo": {
     "elapsed": 11988,
     "status": "ok",
     "timestamp": 1621474103051,
     "user": {
      "displayName": "Ricardo Carubbi",
      "photoUrl": "https://lh3.googleusercontent.com/a-/AOh14GjFIu0VqofZXcKxSonHFG93xYoAWQRXL7z9LIkWBA=s64",
      "userId": "03831168603992390324"
     },
     "user_tz": 180
    },
    "id": "UTW9wro5IaYW",
    "outputId": "2307df01-fdb2-45c1-8f2c-2bdc38596b46",
    "tags": []
   },
   "outputs": [],
   "source": [
    "# Identificação de professores ordenados pelo número de trabalhos publicados\n",
    "nome_grau=[]\n",
    "for N in grafo:\n",
    "    n_grau=nx.get_node_attributes(N, \"nome\")\n",
    "    nome_grau.append([(f'nó {x}', n_grau[x], N.degree[x]) for x in sorted(autores[0],\n",
    "                                                           key=lambda x:N.degree[x],\n",
    "                                                           reverse=True)])"
   ]
  },
  {
   "cell_type": "code",
   "execution_count": 9,
   "metadata": {},
   "outputs": [
    {
     "name": "stdout",
     "output_type": "stream",
     "text": [
      "Grafo A:\n",
      "[('nó 0', 'Placido Rogerio Pinheiro', 46), ('nó 7', 'Maria Elizabeth Sucupira Furtado', 16), ('nó 11', 'Maria Andreia Formico Rodrigues', 14), ('nó 24', 'Joao Batista Furlan Duarte', 14), ('nó 9', 'Joao Jose Vasco Peixoto Furtado', 12), ('nó 44', 'Adriano Bessa Albuquerque', 9), ('nó 19', 'Nabor das Chagas Mendonça', 8), ('nó 22', 'Raimir Holanda Filho', 4), ('nó 39', 'Americo Tadeu Falcone Sampaio', 3), ('nó 69', 'Napoleao Vieira Nepomuceno', 3), ('nó 37', 'Vladia Celia Monteiro Pinheiro', 2), ('nó 119', 'Tarcisio Haroldo Cavalcante Pequeno', 2)]\n",
      "\n",
      "Grafo B:\n",
      "[('nó 0', 'Placido Rogerio Pinheiro', 73), ('nó 7', 'Maria Elizabeth Sucupira Furtado', 24), ('nó 11', 'Maria Andreia Formico Rodrigues', 21), ('nó 9', 'Joao Jose Vasco Peixoto Furtado', 18), ('nó 24', 'Joao Batista Furlan Duarte', 16), ('nó 44', 'Adriano Bessa Albuquerque', 15), ('nó 19', 'Nabor das Chagas Mendonça', 12), ('nó 22', 'Raimir Holanda Filho', 10), ('nó 69', 'Napoleao Vieira Nepomuceno', 7), ('nó 119', 'Tarcisio Haroldo Cavalcante Pequeno', 6), ('nó 37', 'Vladia Celia Monteiro Pinheiro', 4), ('nó 39', 'Americo Tadeu Falcone Sampaio', 4)]\n",
      "\n",
      "Grafo C:\n",
      "[('nó 0', 'Placido Rogerio Pinheiro', 123), ('nó 9', 'Joao Jose Vasco Peixoto Furtado', 42), ('nó 7', 'Maria Elizabeth Sucupira Furtado', 40), ('nó 11', 'Maria Andreia Formico Rodrigues', 36), ('nó 44', 'Adriano Bessa Albuquerque', 28), ('nó 24', 'Joao Batista Furlan Duarte', 25), ('nó 22', 'Raimir Holanda Filho', 23), ('nó 19', 'Nabor das Chagas Mendonça', 19), ('nó 37', 'Vladia Celia Monteiro Pinheiro', 11), ('nó 69', 'Napoleao Vieira Nepomuceno', 11), ('nó 119', 'Tarcisio Haroldo Cavalcante Pequeno', 9), ('nó 39', 'Americo Tadeu Falcone Sampaio', 6)]\n",
      "\n"
     ]
    }
   ],
   "source": [
    "# Gera um dicionário com nós, nomes dos autores e número de publicações (grau do nó). \n",
    "for i,j in zip(str_grafo,nome_grau):\n",
    "    print(f'Grafo {i}:\\n{j}\\n')"
   ]
  },
  {
   "cell_type": "markdown",
   "metadata": {
    "id": "RLHRetpB9jH3"
   },
   "source": [
    "## Grafo Monopartido Ponderado de Coautoria."
   ]
  },
  {
   "cell_type": "markdown",
   "metadata": {
    "id": "t56PL1ObzFvL",
    "tags": []
   },
   "source": [
    "> Um grafo monopartido U (ou projeção de U) é obtido pela conexão entre dois nós U que compartilham o mesmo nó V na representação bipartida de U\". Pode-se definir duas projeções para um grafo bipartido, respectivamente uma projeção de U em V e de V em U.\n",
    "\n",
    "Barabási, Albert-László ; Pósfai, Márton: Network science. Cambridge : Cambridge University Press, 2016."
   ]
  },
  {
   "cell_type": "code",
   "execution_count": 10,
   "metadata": {
    "tags": []
   },
   "outputs": [],
   "source": [
    "# Calculate layout\n",
    "# pos = nx.spring_layout(G, weight='weight', k=0.1)\n",
    "from pickle import dump, load\n",
    "# dump(pos, open('output/pos.pkl', \"wb\"))\n",
    "pos=load(open('output/pos.pkl', \"rb\"))"
   ]
  },
  {
   "cell_type": "code",
   "execution_count": 11,
   "metadata": {},
   "outputs": [],
   "source": [
    "# Create graph weighted projected\n",
    "from networkx import bipartite\n",
    "mono=[]\n",
    "for i,j in zip(grafo,autores):\n",
    "    mono.append(bipartite.weighted_projected_graph(i,j))"
   ]
  },
  {
   "cell_type": "code",
   "execution_count": 12,
   "metadata": {},
   "outputs": [
    {
     "name": "stdout",
     "output_type": "stream",
     "text": [
      "Número de Arestas: 13\n"
     ]
    },
    {
     "data": {
      "image/png": "[encoded data removed]",
      "text/plain": [
       "<Figure size 576x576 with 1 Axes>"
      ]
     },
     "metadata": {},
     "output_type": "display_data"
    },
    {
     "name": "stdout",
     "output_type": "stream",
     "text": [
      "Número de Arestas: 18\n"
     ]
    },
    {
     "data": {
      "image/png": "[encoded data removed]",
      "text/plain": [
       "<Figure size 576x576 with 1 Axes>"
      ]
     },
     "metadata": {},
     "output_type": "display_data"
    },
    {
     "name": "stdout",
     "output_type": "stream",
     "text": [
      "Número de Arestas: 19\n"
     ]
    },
    {
     "data": {
      "image/png": "[encoded data removed]",
      "text/plain": [
       "<Figure size 576x576 with 1 Axes>"
      ]
     },
     "metadata": {},
     "output_type": "display_data"
    }
   ],
   "source": [
    "# Gera os grafos monopartido ponderado de acordo com os anos e evidencia a variação de arestas.\n",
    "anos=[ano_p1.year,ano_p2.year,ano.year]\n",
    "for i,j in zip(mono,anos):\n",
    "    print(f'Número de Arestas: {len(i.edges)}')\n",
    "    graph_mono(i,j)"
   ]
  },
  {
   "cell_type": "markdown",
   "metadata": {},
   "source": [
    "## Detecção de Comunidades"
   ]
  },
  {
   "cell_type": "markdown",
   "metadata": {},
   "source": [
    "### Algoritmo de Louvain"
   ]
  },
  {
   "cell_type": "markdown",
   "metadata": {},
   "source": [
    "> The Louvain algorithm named after its inventors’ home town in Belgium, is a heuristic algorithm for approximately maximizing modularity over divisions of a network into any number of communities. The Louvain algorithm is an agglomerative algorithm, which works by taking single nodes and joining them into groups, then joining groups with other groups, and so forth, in an effort to find the configuration with highest modularity.\n",
    "\n",
    "Mark Newman. 2010. Networks: An Introduction. Oxford University Press, Inc., USA.<br>\n",
    "Blondel, V. D., Guillaume, J.-L., Lambiotte, R., and Lefebvre, E., Fast unfolding of communities in large networks, J. Stat. Mech. 2008, P10008 (2008)."
   ]
  },
  {
   "cell_type": "code",
   "execution_count": 13,
   "metadata": {},
   "outputs": [],
   "source": [
    "# Atribuição de variáveis aos grafos\n",
    "H=mono[1]\n",
    "I=mono[2]"
   ]
  },
  {
   "cell_type": "code",
   "execution_count": 14,
   "metadata": {},
   "outputs": [
    {
     "name": "stdout",
     "output_type": "stream",
     "text": [
      "Número de partições: 3\n",
      "Nós por partição: [[0, 24, 44, 69], [7, 9, 22, 37, 119], [11, 19, 39]]\n"
     ]
    },
    {
     "data": {
      "image/png": "[encoded data removed]",
      "text/plain": [
       "<Figure size 720x576 with 1 Axes>"
      ]
     },
     "metadata": {},
     "output_type": "display_data"
    }
   ],
   "source": [
    "graph_louvain(H,2014)"
   ]
  },
  {
   "cell_type": "code",
   "execution_count": 15,
   "metadata": {},
   "outputs": [
    {
     "name": "stdout",
     "output_type": "stream",
     "text": [
      "Número de partições: 3\n",
      "Nós por partição: [[11, 19, 39], [7, 9, 22, 37, 119], [0, 24, 44, 69]]\n"
     ]
    },
    {
     "data": {
      "image/png": "[encoded data removed]",
      "text/plain": [
       "<Figure size 720x576 with 1 Axes>"
      ]
     },
     "metadata": {},
     "output_type": "display_data"
    }
   ],
   "source": [
    "graph_louvain(I,2021)"
   ]
  },
  {
   "cell_type": "code",
   "execution_count": 16,
   "metadata": {},
   "outputs": [
    {
     "name": "stdout",
     "output_type": "stream",
     "text": [
      "[[{0: 2, 7: 1, 9: 1, 11: 3, 19: 3, 22: 1, 24: 2, 37: 1, 39: 0, 44: 2, 69: 2, 119: 1}], [{0: 0, 7: 2, 9: 2, 11: 1, 19: 1, 22: 2, 24: 0, 37: 2, 39: 1, 44: 0, 69: 0, 119: 2}], [{0: 0, 7: 2, 9: 2, 11: 1, 19: 1, 22: 2, 24: 0, 37: 2, 39: 1, 44: 0, 69: 0, 119: 2}]]\n"
     ]
    }
   ],
   "source": [
    "import community\n",
    "dendo=[]\n",
    "for i in mono:\n",
    "    dendo.append(community.generate_dendrogram(i))\n",
    "print(dendo)"
   ]
  },
  {
   "cell_type": "markdown",
   "metadata": {},
   "source": [
    "## Link Prediction"
   ]
  },
  {
   "cell_type": "markdown",
   "metadata": {},
   "source": [
    "Existem inúmeras métricas para a predição de links, dentre elas estão as métricas baseadas em similaridade (ou proximidade). As técnicas que utilizam essas métricas calculam para cada par de vértices da rede, uma pontuação (score), que representa sua similaridade. Os altos valores de pontuação indicam alta probabilidade de existência do link."
   ]
  },
  {
   "cell_type": "markdown",
   "metadata": {},
   "source": [
    "T. Zhou, L. Lu, Y.-C. Zhang. Predicting missing links via local information. Eur. Phys. J. B 71 (2009) 623. https://arxiv.org/pdf/0901.0553.pdf"
   ]
  },
  {
   "cell_type": "code",
   "execution_count": 17,
   "metadata": {},
   "outputs": [
    {
     "name": "stdout",
     "output_type": "stream",
     "text": [
      "Aresta a ser predita: [(0, 22)]\n",
      "Nós da aresta a ser predita: [0, 22]\n"
     ]
    }
   ],
   "source": [
    "# Aresta a ser predita pela diferença entre as arestas dos grafos de 2021 e 2014.\n",
    "aresta_pred = [e for e in I.edges if e not in H.edges]\n",
    "print(f'Aresta a ser predita: {aresta_pred}')\n",
    "nos_pred = [e for l in aresta_pred for e in l]\n",
    "print(f'Nós da aresta a ser predita: {nos_pred}')"
   ]
  },
  {
   "cell_type": "code",
   "execution_count": 18,
   "metadata": {},
   "outputs": [
    {
     "name": "stdout",
     "output_type": "stream",
     "text": [
      "Nós da comunidade 1 em 2014: [0, 24, 44, 69]\n",
      "Nós da comunidade 2 em 2014: [7, 9, 22, 37, 119]\n",
      "Nós da comunidade 3 em 2014: [11, 19, 39]\n"
     ]
    }
   ],
   "source": [
    "# Nós das comunidades identificados por Louvain.\n",
    "C1,C2,C3 = partition(H)\n",
    "print(f'Nós da comunidade 1 em 2014: {C1}')\n",
    "print(f'Nós da comunidade 2 em 2014: {C2}')\n",
    "print(f'Nós da comunidade 3 em 2014: {C3}')"
   ]
  },
  {
   "cell_type": "code",
   "execution_count": 19,
   "metadata": {},
   "outputs": [
    {
     "name": "stdout",
     "output_type": "stream",
     "text": [
      "Nós possíveis: [37, 119]\n"
     ]
    }
   ],
   "source": [
    "# Identificar os nós da comunidade C2 que poderiam formar aresta com nó 22.\n",
    "nos_comp=[]\n",
    "for i in C2:\n",
    "    if i not in list(H.neighbors(C2[2]))+[nos_pred[1]]:\n",
    "        nos_comp.append(i)\n",
    "print(f'Nós possíveis: {nos_comp}')"
   ]
  },
  {
   "cell_type": "code",
   "execution_count": 20,
   "metadata": {},
   "outputs": [
    {
     "data": {
      "text/plain": [
       "[0, 37, 119]"
      ]
     },
     "execution_count": 20,
     "metadata": {},
     "output_type": "execute_result"
    }
   ],
   "source": [
    "# Nós a serem avaliados\n",
    "nos=[nos_pred[0]]+nos_comp\n",
    "nos"
   ]
  },
  {
   "cell_type": "markdown",
   "metadata": {},
   "source": [
    "### Índice de Vizinhos em Comum"
   ]
  },
  {
   "cell_type": "markdown",
   "metadata": {},
   "source": [
    "Vizinhos em Comum (Common Neighbors) define a quantidade de vizinhos em comum entre um par de nós. À medida que a quantidade de vizinhos em comum cresce, a chance dos dois nós terem um link entre si aumenta.\n",
    "\n",
    "$$s_{xy} = |Γ (x) ∩ Γ (y)|$$\n",
    "\n",
    "Sendo $Γ(x)$ o conjunto de vizinhos do vértice x e $|Γ(x)|$ a quantidade de vizinhos do\n",
    "vértice x, isto é, o grau do vértice."
   ]
  },
  {
   "cell_type": "code",
   "execution_count": 21,
   "metadata": {},
   "outputs": [
    {
     "name": "stdout",
     "output_type": "stream",
     "text": [
      "Nós avaliados:(22, 0)\n",
      "Nó(s) vizinho(s): [7]\n",
      "Número de nó(s) vizinho(s) em comum: 1\n",
      "\n",
      "Nós avaliados:(22, 37)\n",
      "Nó(s) vizinho(s): [7, 9]\n",
      "Número de nó(s) vizinho(s) em comum: 2\n",
      "\n",
      "Nós avaliados:(22, 119)\n",
      "Nó(s) vizinho(s): [9]\n",
      "Número de nó(s) vizinho(s) em comum: 1\n",
      "\n"
     ]
    }
   ],
   "source": [
    "for i in range(len(nos)):\n",
    "    avalCN(H,nos_pred[1],nos[i])"
   ]
  },
  {
   "cell_type": "markdown",
   "metadata": {},
   "source": [
    "Pode-se concluir que, através do número de vizinhos comuns, a probabilidade da geração da aresta (22,37) é duas vezes maior que a aresta (22,0) ou da aresta (22,119)."
   ]
  },
  {
   "cell_type": "markdown",
   "metadata": {},
   "source": [
    "### Coeficiente de Jaccard"
   ]
  },
  {
   "cell_type": "markdown",
   "metadata": {},
   "source": [
    "Coeficiente de Jaccard [1] é uma métrica de similaridade que normaliza a quantidade de vizinhos em comum.\n",
    "\n",
    "$$s_{xy}=\\frac{|Γ (x) ∩ Γ (y)|}{|Γ (x) ∪ Γ (y)|}$$\n",
    "\n",
    "1. P. Jaccard, Bulletin de la Societe Vaudoise des Science Naturelles 37, 547 (1901)"
   ]
  },
  {
   "cell_type": "code",
   "execution_count": 22,
   "metadata": {},
   "outputs": [
    {
     "name": "stdout",
     "output_type": "stream",
     "text": [
      "Nós avaliados:(22, 0)\n",
      "jaccard index: 0.1667\n",
      "\n",
      "Nós avaliados:(22, 37)\n",
      "jaccard index: 0.5000\n",
      "\n",
      "Nós avaliados:(22, 119)\n",
      "jaccard index: 0.2500\n",
      "\n"
     ]
    }
   ],
   "source": [
    "for i in range(len(nos)):\n",
    "    print(f'Nós avaliados:{nos_pred[1],nos[i]}')\n",
    "    for u, v, p in nx.jaccard_coefficient(H,[(nos_pred[1],nos[i])]):\n",
    "        print(f'jaccard index: {p:.4f}\\n')"
   ]
  },
  {
   "cell_type": "markdown",
   "metadata": {},
   "source": [
    "Pode-se concluir que, baseado no índice de Jaccard, a probabilidade da geração da aresta (22,37) é 299,94% maior que a aresta (22,0), assim como a aresta (22,119) com 149,97%."
   ]
  },
  {
   "cell_type": "markdown",
   "metadata": {},
   "source": [
    "### Índice de Adamic-Adar"
   ]
  },
  {
   "cell_type": "markdown",
   "metadata": {},
   "source": [
    "Índice de Adamic-Adar [1] é uma métrica de similaridade que pondera a vizinhança em comum entre os vértices. Para isso, atribui maior peso aos vizinhos em comum com menor quantidade de arestas.\n",
    "\n",
    "$$S_{xy}=\\sum_{w \\in \\Gamma(u) \\cap \\Gamma(v)} \\frac{1}{\\log |\\Gamma(w)|}$$\n",
    "\n",
    "onde $Γ(u)$ denota um conjunto de vizinhos de $u$. Este índice leva à divisão zero para nós conectados apenas por meio de loops. Ele deve ser usado quando não houver self-loops presentes.\n",
    "\n",
    "1. L. A. Adamic, E. Adar, Social Networks 25, 211 (2003)."
   ]
  },
  {
   "cell_type": "code",
   "execution_count": 23,
   "metadata": {
    "tags": []
   },
   "outputs": [
    {
     "name": "stdout",
     "output_type": "stream",
     "text": [
      "Nós avaliados:(22, 0)\n",
      "Adamic-Adar Index: 0.6213\n",
      "\n",
      "Nós avaliados:(22, 37)\n",
      "Adamic-Adar Index: 1.1794\n",
      "\n",
      "Nós avaliados:(22, 119)\n",
      "Adamic-Adar Index: 0.5581\n",
      "\n"
     ]
    }
   ],
   "source": [
    "for i in range(len(nos)):\n",
    "    print(f'Nós avaliados:{nos_pred[1],nos[i]}')\n",
    "    for u, v, p in nx.adamic_adar_index(H,[(nos_pred[1],nos[i])]):\n",
    "        print(f'Adamic-Adar Index: {p:.4f}\\n')"
   ]
  },
  {
   "cell_type": "markdown",
   "metadata": {},
   "source": [
    "Pode-se concluir que, baseado no índice de Adamic-Adar, a probabilidade da geração da aresta (22,37) é 189.83% em relação à aresta (22,0), assim como a aresta (22,119) com 89.83%. Este índice de predição não atesta a existência da aresta (22,0) em 2021."
   ]
  },
  {
   "cell_type": "markdown",
   "metadata": {},
   "source": [
    "### Conexão Preferencial"
   ]
  },
  {
   "cell_type": "markdown",
   "metadata": {},
   "source": [
    "Conexão Preferencial (Preferential Attachment) [1][2] é uma métrica onde as chances de um vértice estar conectado a outro vértice em uma rede é proporcional ao produto do número de vizinhos que cada um possui. A ideia é que novos relacionamentos têm mais chances de correr com pessoas que têm muitos relacionamentos (conhecido como o rico fica mais rico) [3].\n",
    "\n",
    "$$s_{xy} = {{k_{(x)} \\times k_{(y)}}}$$\n",
    "\n",
    "1. ADAMIC, L.; ADAR, E. Friends and neighbors on the web. Social Networks, v. 25, p.211–230, 2001.\n",
    "2. BARABáSI, A. L. et al. Evolution of the social network of scientific collaborations. Physica A: Statistical Mechanics and its Applications, v. 311, n. 3-4, p. 590–614, 2002.\n",
    "3. HASAN, M.; ZAKI, M. A survey of link prediction in social networks. In: AGGARWAL, C. C. (Ed.). Social Network Data Analytics. [S.l.]: Springer US, 2011."
   ]
  },
  {
   "cell_type": "code",
   "execution_count": 24,
   "metadata": {},
   "outputs": [
    {
     "name": "stdout",
     "output_type": "stream",
     "text": [
      "Nós avaliados:(22, 0)\n",
      "preferential attachment index: 10.0000\n",
      "\n",
      "Nós avaliados:(22, 37)\n",
      "preferential attachment index: 8.0000\n",
      "\n",
      "Nós avaliados:(22, 119)\n",
      "preferential attachment index: 6.0000\n",
      "\n"
     ]
    }
   ],
   "source": [
    "for i in range(len(nos)):\n",
    "    preferential_attachment(H,nos_pred[1],nos[i])"
   ]
  },
  {
   "cell_type": "markdown",
   "metadata": {},
   "source": [
    "Pode-se concluir que, baseado no índice Preferential Attachment, a probabilidade da geração da aresta (22,37) é de 80% em relação à aresta (22,0), assim como a aresta (22,119) de 60%. Este índice de predição atesta com a existência da aresta (22,0) em 2021."
   ]
  },
  {
   "cell_type": "markdown",
   "metadata": {},
   "source": [
    "### Índice de Salton"
   ]
  },
  {
   "cell_type": "markdown",
   "metadata": {},
   "source": [
    "Salton ou Similaridade Cosseno [1] é uma medida da similaridade entre dois vetores que mede o cosseno do ângulo entre os mesmos.\n",
    "\n",
    "$$s_{xy}=\\frac{|Γ_(x) ∩ Γ (y)|}{\\sqrt{k_{(x)} \\times k_{(y)}}}$$\n",
    "\n",
    "onde $k(x) = |Γ (x)|$ denota o grau de $x$.\n",
    "\n",
    "1. G. Salton, M. J. McGill, Introduction to Modern Information Retrieval (MuGraw-Hill, Auckland, 1983)."
   ]
  },
  {
   "cell_type": "code",
   "execution_count": 25,
   "metadata": {},
   "outputs": [
    {
     "name": "stdout",
     "output_type": "stream",
     "text": [
      "Nós avaliados:(22, 0)\n",
      "salton index: 0.3162\n",
      "\n",
      "Nós avaliados:(22, 37)\n",
      "salton index: 0.7071\n",
      "\n",
      "Nós avaliados:(22, 119)\n",
      "salton index: 0.4082\n",
      "\n"
     ]
    }
   ],
   "source": [
    "for i in range(len(nos)):\n",
    "    salton_index(H,nos_pred[1],nos[i])"
   ]
  },
  {
   "cell_type": "markdown",
   "metadata": {},
   "source": [
    "Pode-se concluir que, baseado no índice de Salton, a probabilidade da geração da aresta (22,37) é 223,63% maior que a aresta (22,0), assim como a aresta (22,119) com 129,10%."
   ]
  },
  {
   "cell_type": "markdown",
   "metadata": {},
   "source": [
    "### Índice de Sørensen"
   ]
  },
  {
   "cell_type": "markdown",
   "metadata": {},
   "source": [
    "A métrica de S∅rensen [1] é usada para medir a similaridade entre duas amostras, frequentemente empregado em análises de comunidades ecológicas.\n",
    "\n",
    "$$s_{xy}=\\frac{|Γ_(x) ∩ Γ (y)|}{{k_{(x)} + k_{(y)}}}$$\n",
    "\n",
    "1. T. Sørensen, Biol. Skr. 5, 1 (1948)."
   ]
  },
  {
   "cell_type": "code",
   "execution_count": 26,
   "metadata": {},
   "outputs": [
    {
     "name": "stdout",
     "output_type": "stream",
     "text": [
      "Nós avaliados:(22, 0)\n",
      "sorensen index: 0.2857\n",
      "\n",
      "Nós avaliados:(22, 37)\n",
      "sorensen index: 0.6667\n",
      "\n",
      "Nós avaliados:(22, 119)\n",
      "sorensen index: 0.4000\n",
      "\n"
     ]
    }
   ],
   "source": [
    "for i in range(len(nos)):\n",
    "    sorensen_index(H,nos_pred[1],nos[i])"
   ]
  },
  {
   "cell_type": "markdown",
   "metadata": {},
   "source": [
    "Pode-se concluir que, baseado no índice de Sørensen, a probabilidade da geração da aresta (22,37) é 233,36% em relação à aresta (22,0), assim como a aresta (22,119) com 140,01%. Este índice de predição não atesta a existência da aresta (22,0) em 2021."
   ]
  },
  {
   "cell_type": "markdown",
   "metadata": {},
   "source": [
    "### Índice Hub Promoted"
   ]
  },
  {
   "cell_type": "markdown",
   "metadata": {},
   "source": [
    "A métrica Hub Promoted Index [1] foi proposta para medir a sobreposição topológica de pares de substratos de redes metabólicas.\n",
    "\n",
    "$$s_{xy}=\\frac{|Γ_(x) ∩ Γ (y)|}{\\min({k_{(x)},k_{(y))}}}$$\n",
    "\n",
    "1. E. Ravasz, A. L. Somera, D. A. Mongru, Z. N. Oltvai, A.-L. Barabási, Science 297, 1553 (2002)."
   ]
  },
  {
   "cell_type": "code",
   "execution_count": 27,
   "metadata": {},
   "outputs": [
    {
     "name": "stdout",
     "output_type": "stream",
     "text": [
      "Nós avaliados:(22, 0)\n",
      "hub promoted index: 0.5000\n",
      "\n",
      "Nós avaliados:(22, 37)\n",
      "hub promoted index: 1.0000\n",
      "\n",
      "Nós avaliados:(22, 119)\n",
      "hub promoted index: 0.5000\n",
      "\n"
     ]
    }
   ],
   "source": [
    "for i in range(len(nos)):\n",
    "    hub_promoted_index(H,nos_pred[1],nos[i])"
   ]
  },
  {
   "cell_type": "markdown",
   "metadata": {},
   "source": [
    "Pode-se concluir que, baseado no índice Hub Promoted, a probabilidade da geração da aresta (22,37) é 250,00% em relação à aresta (22,0), assim como a aresta (22,119) com 166,65%. Este índice de predição não atesta a existência da aresta (22,0) em 2021."
   ]
  },
  {
   "cell_type": "markdown",
   "metadata": {},
   "source": [
    "### Índice Hub Depressed"
   ]
  },
  {
   "cell_type": "markdown",
   "metadata": {},
   "source": [
    "Hub Depressed Index [1] é a métrica oposta a métrica anterior.\n",
    "\n",
    "$$s_{xy}=\\frac{|Γ_(x) ∩ Γ (y)|}{\\max({k_{(x)},k_{(y))}}}$$\n",
    "\n",
    "1. ZHOU, T.; L, L.; ZHANG, Y.-C. Predicting missing links via local information. The European Physical Journal B, Springer-Verlag, v. 71, n. 4, p. 623–630, 2009."
   ]
  },
  {
   "cell_type": "code",
   "execution_count": 28,
   "metadata": {},
   "outputs": [
    {
     "name": "stdout",
     "output_type": "stream",
     "text": [
      "Nós avaliados:(22, 0)\n",
      "hub depressed index: 0.2000\n",
      "\n",
      "Nós avaliados:(22, 37)\n",
      "hub depressed index: 0.5000\n",
      "\n",
      "Nós avaliados:(22, 119)\n",
      "hub depressed index: 0.3333\n",
      "\n"
     ]
    }
   ],
   "source": [
    "for i in range(len(nos)):\n",
    "    hub_depressed_index(H,nos_pred[1],nos[i])"
   ]
  },
  {
   "cell_type": "markdown",
   "metadata": {},
   "source": [
    "Pode-se concluir que, baseado no índice Hub Promoted, a probabilidade da geração da aresta (22,37) é 250,00% em relação à aresta (22,0), assim como a aresta (22,119) com 166,65%. Este índice de predição não atesta a existência da aresta (22,0) em 2021."
   ]
  },
  {
   "cell_type": "markdown",
   "metadata": {},
   "source": [
    "### Índice de Leicht-Holme-Newman"
   ]
  },
  {
   "cell_type": "markdown",
   "metadata": {},
   "source": [
    "O índice de Leicht-Holme-Newman [1] é uma medida de similaridade proposta com base no conceito de que dois vértices são semelhantes se os seus vizinhos na rede também são semelhantes.\n",
    "\n",
    "$$s_{xy}=\\frac{|Γ_(x) ∩ Γ (y)|}{{k_{(x)} \\times k_{(y)}}}$$\n",
    "\n",
    "onde o denominador, $k(x)×k(y)$, é proporcional ao número esperado de viznhos comuns dos nós $x$ e $y$.\n",
    "\n",
    "1. LEICHT, E. A.; HOLME, P.; NEWMAN, M. E. J. Vertex similarity in networks. Phys. Rev. E, American Physical Society, v. 73, p. 026120, Feb 2006."
   ]
  },
  {
   "cell_type": "code",
   "execution_count": 29,
   "metadata": {},
   "outputs": [
    {
     "name": "stdout",
     "output_type": "stream",
     "text": [
      "Nós avaliados:(22, 0)\n",
      "leicht holme newman index: 0.1000\n",
      "\n",
      "Nós avaliados:(22, 37)\n",
      "leicht holme newman index: 0.2500\n",
      "\n",
      "Nós avaliados:(22, 119)\n",
      "leicht holme newman index: 0.1667\n",
      "\n"
     ]
    }
   ],
   "source": [
    "for i in range(len(nos)):\n",
    "    leicht_holme_newman_index(H,nos_pred[1],nos[i])"
   ]
  },
  {
   "cell_type": "markdown",
   "metadata": {},
   "source": [
    "Pode-se concluir que, baseado no índice de Leicht-Holme-Newman, a probabilidade da geração da aresta (22,37) é 250% em relação à aresta (22,0), assim como a aresta (22,119) com 166,67%. Este índice de predição não atesta a existência da aresta (22,0) em 2021."
   ]
  },
  {
   "cell_type": "markdown",
   "metadata": {},
   "source": [
    "### Alocação de Recurso"
   ]
  },
  {
   "cell_type": "markdown",
   "metadata": {},
   "source": [
    "Resource Allocation é uma métrica que, dado um par de vértices não conectados diretamente, tenta mensurar a transmissão de recursos entre estes vértices. Para um vértice $x$ enviar um recurso para o vértice $y$, tem-se a utilização dos vértices vizinhos para transmissão. No caso mais simples, assume-se que cada transmissor possui uma unidade de recurso e a distribuição é feita igualmente para todos os vizinhos. Portanto a similaridade é dada pela quantidade de recursos que $y$ recebe de $x$.\n",
    "\n",
    "$$S_{xy}=\\sum_{w \\in \\Gamma(u) \\cap \\Gamma(v)} \\frac{1}{|\\Gamma(w)|}$$\n",
    "\n",
    "onde $Γ(u)$ denota o conjunto de nós vizinhos de $u$.\n",
    "\n",
    "1. OU, Q. et al. Power-law strength-degree correlation from resource-allocation dynamics on weighted networks. Physical Review E, v. 75, n. 2, p. 021102, 2007."
   ]
  },
  {
   "cell_type": "code",
   "execution_count": 30,
   "metadata": {
    "tags": []
   },
   "outputs": [
    {
     "name": "stdout",
     "output_type": "stream",
     "text": [
      "Nós avaliados:(22, 0)\n",
      "Resource Allocation index: 0.2000\n",
      "\n",
      "Nós avaliados:(22, 37)\n",
      "Resource Allocation index: 0.3667\n",
      "\n",
      "Nós avaliados:(22, 119)\n",
      "Resource Allocation index: 0.1667\n",
      "\n"
     ]
    }
   ],
   "source": [
    "for i in range(len(nos)):\n",
    "    print(f'Nós avaliados:{nos_pred[1],nos[i]}')\n",
    "    for u, v, p in nx.resource_allocation_index(H,[(nos_pred[1],nos[i])]):\n",
    "        print(f'Resource Allocation index: {p:.4f}\\n')"
   ]
  },
  {
   "cell_type": "markdown",
   "metadata": {},
   "source": [
    "Pode-se concluir que, baseado no índice Resource Allocation Index, a probabilidade da geração da aresta (22,37) é 183.35% em relação à aresta (22,0), assim como a aresta (22,119) com 83.35%. Este índice de predição não atesta a existência da aresta (22,0) em 2021."
   ]
  },
  {
   "cell_type": "markdown",
   "metadata": {},
   "source": [
    "### Índice Cn Soundarajan Hopcroft"
   ]
  },
  {
   "cell_type": "markdown",
   "metadata": {},
   "source": [
    "O índice Cn Soundarajan Hopcroft computa o número de nós vizinhos comuns de $u$ e $v$ e bonifica a cada nó vizinho comum que pertence a mesma comunidade de $u$ e $v$.\n",
    "\n",
    "$$S_{xy}=|\\Gamma(u) \\cap \\Gamma(v)| + \\sum_{w \\in \\Gamma(u) \\cap \\Gamma(v)} f(w)$$\n",
    "\n",
    "onde $f(w)$ igual a 1 se $w$ pertence a mesma comunidade de $u$ e $v$ ou igual a zero se contraário e $Γ(u)$ denota o conjunto de nós vizinhos de $u$."
   ]
  },
  {
   "cell_type": "code",
   "execution_count": 31,
   "metadata": {
    "tags": []
   },
   "outputs": [
    {
     "name": "stdout",
     "output_type": "stream",
     "text": [
      "Nós avaliados:(22, 0)\n",
      "cn Soundarajan Hopcroft index: 1.0000\n",
      "\n",
      "Nós avaliados:(22, 37)\n",
      "cn Soundarajan Hopcroft index: 4.0000\n",
      "\n",
      "Nós avaliados:(22, 119)\n",
      "cn Soundarajan Hopcroft index: 2.0000\n",
      "\n"
     ]
    }
   ],
   "source": [
    "for i in range(len(nos)):\n",
    "    print(f'Nós avaliados:{nos_pred[1],nos[i]}')\n",
    "    for u, v, p in nx.cn_soundarajan_hopcroft(H,[(nos_pred[1],nos[i])]):\n",
    "        print(f'cn Soundarajan Hopcroft index: {p:.4f}\\n')"
   ]
  },
  {
   "cell_type": "markdown",
   "metadata": {},
   "source": [
    "Pode-se concluir que, baseado no índice de CN Soundarajan Hopcroft, a probabilidade da geração da aresta (22,37) é 400% em relação à aresta (22,0), assim como a aresta (22,119) com 200%. Este índice de predição não atesta a existência da aresta (22,0) em 2021."
   ]
  },
  {
   "cell_type": "markdown",
   "metadata": {},
   "source": [
    "### Índice Ra Soundarajan Hopcroft"
   ]
  },
  {
   "cell_type": "markdown",
   "metadata": {},
   "source": [
    "Calcula o índice de alocação de recursos de todos os pares de nós usando informações da comunidade. Seja os nós $u$ e $v$, esta função calcula o índice de alocação de recursos considerando apenas vizinhos comuns pertencentes à mesma comunidade que $u$ e $v$\n",
    "\n",
    "$$S_{xy}=\\sum_{w \\in \\Gamma(u) \\cap \\Gamma(v)} \\frac{f(w)}{|\\Gamma(w)|}$$\n",
    "\n",
    "onde $f(w)$ igual a 1 se $w$ pertence a mesma comunidade de $u$ e $v$ ou igual a zero se contraário e $Γ(u)$ denota o conjunto de nós vizinhos de $u$."
   ]
  },
  {
   "cell_type": "code",
   "execution_count": 32,
   "metadata": {
    "tags": []
   },
   "outputs": [
    {
     "name": "stdout",
     "output_type": "stream",
     "text": [
      "Nós avaliados:(22, 0)\n",
      "Ra Index Soundarajan Hopcroft: 0.0000\n",
      "\n",
      "Nós avaliados:(22, 37)\n",
      "Ra Index Soundarajan Hopcroft: 0.3667\n",
      "\n",
      "Nós avaliados:(22, 119)\n",
      "Ra Index Soundarajan Hopcroft: 0.1667\n",
      "\n"
     ]
    }
   ],
   "source": [
    "for i in range(len(nos)):\n",
    "    print(f'Nós avaliados:{nos_pred[1],nos[i]}')\n",
    "    for u, v, p in nx.ra_index_soundarajan_hopcroft(H,[(nos_pred[1],nos[i])]):\n",
    "        print(f'Ra Index Soundarajan Hopcroft: {p:.4f}\\n')"
   ]
  },
  {
   "cell_type": "markdown",
   "metadata": {},
   "source": [
    "Como este índice prevê apenas links em nós de mesma comunidade, e portanto, não atesta a existência da aresta (22,0) em 2021, pois seus repsectivos nós pertences à comunidades diferentes."
   ]
  },
  {
   "cell_type": "markdown",
   "metadata": {},
   "source": [
    "### Intra e Inter Cluster"
   ]
  },
  {
   "cell_type": "markdown",
   "metadata": {},
   "source": [
    "Calcula a proporção de vizinhos comuns dentro e entre clusters de todos os pares de nós. Seja os nós $u$ e $v$, se um nó vizinho comum $w$ pertencer à mesma comunidade de $u$ e $v$, $w$ é considerado como um nó vizinho comum dentro do cluster de $u$ e $v$. Caso contrário, é considerado nós vizinho comum intercluster de $u$ e $v$. A proporção entre o tamanho do conjunto de nós vizinhos comuns dentro e entre os clusters é definida como a métrica WIC."
   ]
  },
  {
   "cell_type": "code",
   "execution_count": 33,
   "metadata": {
    "tags": []
   },
   "outputs": [
    {
     "name": "stdout",
     "output_type": "stream",
     "text": [
      "Nós avaliados:(22, 0)\n",
      "WIC index: 0.0000\n",
      "\n",
      "Nós avaliados:(22, 37)\n",
      "WIC index: 2000.0000\n",
      "\n",
      "Nós avaliados:(22, 119)\n",
      "WIC index: 1000.0000\n",
      "\n"
     ]
    }
   ],
   "source": [
    "for i in range(len(nos)):\n",
    "    print(f'Nós avaliados:{nos_pred[1],nos[i]}')\n",
    "    for u, v, p in nx.within_inter_cluster(H,[(nos_pred[1],nos[i])]):\n",
    "        print(f'WIC index: {p:.4f}\\n')"
   ]
  },
  {
   "cell_type": "markdown",
   "metadata": {},
   "source": [
    "Como este índice prevê apenas links em nós de mesma comunidade, e portanto, não atesta a existência da aresta (22,0) em 2021, pois seus respectivos nós pertences à comunidades diferentes."
   ]
  },
  {
   "cell_type": "markdown",
   "metadata": {},
   "source": [
    "### Centralidade de Vizinho Communs"
   ]
  },
  {
   "cell_type": "markdown",
   "metadata": {},
   "source": [
    "Calcula a pontuação do algoritmo Common Neighbor Centrality (CCPA) de todos os pares de nós. A pontuação CCPA de $u$ e $v$ é definida como:\n",
    "\n",
    "$$ \\ alpha \\ cdot (| \\ Gamma (u) {\\ cap} ^ {} \\ Gamma (v) |) + (1- \\ alpha) \\ cdot \\ frac {N} {{d} _ {uv}} $$\n",
    "\n",
    "onde $Γ(u)$ é o conjunto de nós vizinhos de $u$, $Γ(v)$ é o conjunto de nós vizinhos de $v$, $α$ é o parâmetro que varia entre [0,1], N corresponde ao número total de nós no grafo e $duv$ é a distância mais curta entre os nós $u$ e $v$.\n",
    "\n",
    "Este algoritmo é baseado em duas propriedades vitais dos nós: o número de nós vizinhos comuns e sua centralidade."
   ]
  },
  {
   "cell_type": "code",
   "execution_count": 34,
   "metadata": {
    "tags": []
   },
   "outputs": [
    {
     "name": "stdout",
     "output_type": "stream",
     "text": [
      "Nós avaliados:(22, 0)\n",
      "CCPA index: 2.0000\n",
      "\n",
      "Nós avaliados:(22, 37)\n",
      "CCPA index: 2.8000\n",
      "\n",
      "Nós avaliados:(22, 119)\n",
      "CCPA index: 2.0000\n",
      "\n"
     ]
    }
   ],
   "source": [
    "for i in range(len(nos)):\n",
    "    print(f'Nós avaliados:{nos_pred[1],nos[i]}')\n",
    "    for u, v, p in nx.common_neighbor_centrality(H,[(nos_pred[1],nos[i])]):\n",
    "        print(f'CCPA index: {p:.4f}\\n')"
   ]
  },
  {
   "cell_type": "markdown",
   "metadata": {},
   "source": [
    "Pode-se concluir que, baseado no índice de Common Neighbor Centrality, a probabilidade da geração da aresta (22,37) é 140% em relação à aresta (22,0). A probabilidade da aresta (22,119) é igual a da aresta (22,0). Este índice de predição não atesta a existência da aresta (22,0) em 2021."
   ]
  }
 ],
 "metadata": {
  "colab": {
   "authorship_tag": "ABX9TyMfW1Pu/AX6LUODwKDf4ioE",
   "collapsed_sections": [
    "U5AvIlJ7TPJu"
   ],
   "mount_file_id": "1a-QZLAbo2zm1Ek4iAAoyvuUMMtQTMz-Q",
   "name": "P5b_PPGIA_Bipartite.ipynb",
   "provenance": [
    {
     "file_id": "1BXy-0M6BK6N2FqwWSTpKilMGbfDz-vKX",
     "timestamp": 1619978937071
    },
    {
     "file_id": "18K2KdMPy5W18A6MGNnboEL0_AwD6AAmU",
     "timestamp": 1619890692028
    },
    {
     "file_id": "1k52FgW77tPmDOj5iYR-x5QpiNLHhYe6z",
     "timestamp": 1619889556910
    }
   ],
   "toc_visible": true
  },
  "kernelspec": {
   "display_name": "Python 3",
   "language": "python",
   "name": "python3"
  },
  "language_info": {
   "codemirror_mode": {
    "name": "ipython",
    "version": 3
   },
   "file_extension": ".py",
   "mimetype": "text/x-python",
   "name": "python",
   "nbconvert_exporter": "python",
   "pygments_lexer": "ipython3",
   "version": "3.8.8"
  }
 },
 "nbformat": 4,
 "nbformat_minor": 4
}
